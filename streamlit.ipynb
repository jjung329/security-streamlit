{
 "cells": [
  {
   "cell_type": "code",
   "execution_count": 5,
   "metadata": {},
   "outputs": [
    {
     "name": "stdout",
     "output_type": "stream",
     "text": [
      "Collecting streamlit\n",
      "  Using cached streamlit-1.39.0-py2.py3-none-any.whl.metadata (8.5 kB)\n",
      "Collecting altair<6,>=4.0 (from streamlit)\n",
      "  Using cached altair-5.4.1-py3-none-any.whl.metadata (9.4 kB)\n",
      "Requirement already satisfied: blinker<2,>=1.0.0 in c:\\users\\ldcc\\ideaprojects\\inflearn-llm-application\\.venv\\lib\\site-packages (from streamlit) (1.8.2)\n",
      "Requirement already satisfied: cachetools<6,>=4.0 in c:\\users\\ldcc\\ideaprojects\\inflearn-llm-application\\.venv\\lib\\site-packages (from streamlit) (5.5.0)\n",
      "Requirement already satisfied: click<9,>=7.0 in c:\\users\\ldcc\\ideaprojects\\inflearn-llm-application\\.venv\\lib\\site-packages (from streamlit) (8.1.7)\n",
      "Requirement already satisfied: numpy<3,>=1.20 in c:\\users\\ldcc\\ideaprojects\\inflearn-llm-application\\.venv\\lib\\site-packages (from streamlit) (2.1.2)\n",
      "Requirement already satisfied: packaging<25,>=20 in c:\\users\\ldcc\\ideaprojects\\inflearn-llm-application\\.venv\\lib\\site-packages (from streamlit) (24.1)\n",
      "Collecting pandas<3,>=1.4.0 (from streamlit)\n",
      "  Using cached pandas-2.2.3-cp310-cp310-win_amd64.whl.metadata (19 kB)\n",
      "Requirement already satisfied: pillow<11,>=7.1.0 in c:\\users\\ldcc\\ideaprojects\\inflearn-llm-application\\.venv\\lib\\site-packages (from streamlit) (10.4.0)\n",
      "Requirement already satisfied: protobuf<6,>=3.20 in c:\\users\\ldcc\\ideaprojects\\inflearn-llm-application\\.venv\\lib\\site-packages (from streamlit) (5.28.2)\n",
      "Requirement already satisfied: pyarrow>=7.0 in c:\\users\\ldcc\\ideaprojects\\inflearn-llm-application\\.venv\\lib\\site-packages (from streamlit) (17.0.0)\n",
      "Requirement already satisfied: requests<3,>=2.27 in c:\\users\\ldcc\\ideaprojects\\inflearn-llm-application\\.venv\\lib\\site-packages (from streamlit) (2.32.3)\n",
      "Collecting rich<14,>=10.14.0 (from streamlit)\n",
      "  Using cached rich-13.9.2-py3-none-any.whl.metadata (18 kB)\n",
      "Requirement already satisfied: tenacity<10,>=8.1.0 in c:\\users\\ldcc\\ideaprojects\\inflearn-llm-application\\.venv\\lib\\site-packages (from streamlit) (9.0.0)\n",
      "Requirement already satisfied: toml<2,>=0.10.1 in c:\\users\\ldcc\\ideaprojects\\inflearn-llm-application\\.venv\\lib\\site-packages (from streamlit) (0.10.2)\n",
      "Requirement already satisfied: typing-extensions<5,>=4.3.0 in c:\\users\\ldcc\\ideaprojects\\inflearn-llm-application\\.venv\\lib\\site-packages (from streamlit) (4.12.2)\n",
      "Collecting gitpython!=3.1.19,<4,>=3.0.7 (from streamlit)\n",
      "  Using cached GitPython-3.1.43-py3-none-any.whl.metadata (13 kB)\n",
      "Collecting pydeck<1,>=0.8.0b4 (from streamlit)\n",
      "  Using cached pydeck-0.9.1-py2.py3-none-any.whl.metadata (4.1 kB)\n",
      "Requirement already satisfied: tornado<7,>=6.0.3 in c:\\users\\ldcc\\ideaprojects\\inflearn-llm-application\\.venv\\lib\\site-packages (from streamlit) (6.4.1)\n",
      "Requirement already satisfied: watchdog<6,>=2.1.5 in c:\\users\\ldcc\\ideaprojects\\inflearn-llm-application\\.venv\\lib\\site-packages (from streamlit) (5.0.3)\n",
      "Collecting jinja2 (from altair<6,>=4.0->streamlit)\n",
      "  Using cached jinja2-3.1.4-py3-none-any.whl.metadata (2.6 kB)\n",
      "Collecting jsonschema>=3.0 (from altair<6,>=4.0->streamlit)\n",
      "  Using cached jsonschema-4.23.0-py3-none-any.whl.metadata (7.9 kB)\n",
      "Requirement already satisfied: narwhals>=1.5.2 in c:\\users\\ldcc\\ideaprojects\\inflearn-llm-application\\.venv\\lib\\site-packages (from altair<6,>=4.0->streamlit) (1.9.1)\n",
      "Requirement already satisfied: colorama in c:\\users\\ldcc\\ideaprojects\\inflearn-llm-application\\.venv\\lib\\site-packages (from click<9,>=7.0->streamlit) (0.4.6)\n",
      "Collecting gitdb<5,>=4.0.1 (from gitpython!=3.1.19,<4,>=3.0.7->streamlit)\n",
      "  Using cached gitdb-4.0.11-py3-none-any.whl.metadata (1.2 kB)\n",
      "Requirement already satisfied: python-dateutil>=2.8.2 in c:\\users\\ldcc\\ideaprojects\\inflearn-llm-application\\.venv\\lib\\site-packages (from pandas<3,>=1.4.0->streamlit) (2.9.0.post0)\n",
      "Requirement already satisfied: pytz>=2020.1 in c:\\users\\ldcc\\ideaprojects\\inflearn-llm-application\\.venv\\lib\\site-packages (from pandas<3,>=1.4.0->streamlit) (2024.2)\n",
      "Requirement already satisfied: tzdata>=2022.7 in c:\\users\\ldcc\\ideaprojects\\inflearn-llm-application\\.venv\\lib\\site-packages (from pandas<3,>=1.4.0->streamlit) (2024.2)\n",
      "Requirement already satisfied: charset-normalizer<4,>=2 in c:\\users\\ldcc\\ideaprojects\\inflearn-llm-application\\.venv\\lib\\site-packages (from requests<3,>=2.27->streamlit) (3.3.2)\n",
      "Requirement already satisfied: idna<4,>=2.5 in c:\\users\\ldcc\\ideaprojects\\inflearn-llm-application\\.venv\\lib\\site-packages (from requests<3,>=2.27->streamlit) (3.10)\n",
      "Requirement already satisfied: urllib3<3,>=1.21.1 in c:\\users\\ldcc\\ideaprojects\\inflearn-llm-application\\.venv\\lib\\site-packages (from requests<3,>=2.27->streamlit) (2.2.3)\n",
      "Requirement already satisfied: certifi>=2017.4.17 in c:\\users\\ldcc\\ideaprojects\\inflearn-llm-application\\.venv\\lib\\site-packages (from requests<3,>=2.27->streamlit) (2024.8.30)\n",
      "Collecting markdown-it-py>=2.2.0 (from rich<14,>=10.14.0->streamlit)\n",
      "  Using cached markdown_it_py-3.0.0-py3-none-any.whl.metadata (6.9 kB)\n",
      "Requirement already satisfied: pygments<3.0.0,>=2.13.0 in c:\\users\\ldcc\\ideaprojects\\inflearn-llm-application\\.venv\\lib\\site-packages (from rich<14,>=10.14.0->streamlit) (2.18.0)\n",
      "Requirement already satisfied: smmap<6,>=3.0.1 in c:\\users\\ldcc\\ideaprojects\\inflearn-llm-application\\.venv\\lib\\site-packages (from gitdb<5,>=4.0.1->gitpython!=3.1.19,<4,>=3.0.7->streamlit) (5.0.1)\n",
      "Requirement already satisfied: MarkupSafe>=2.0 in c:\\users\\ldcc\\ideaprojects\\inflearn-llm-application\\.venv\\lib\\site-packages (from jinja2->altair<6,>=4.0->streamlit) (3.0.0)\n",
      "Requirement already satisfied: attrs>=22.2.0 in c:\\users\\ldcc\\ideaprojects\\inflearn-llm-application\\.venv\\lib\\site-packages (from jsonschema>=3.0->altair<6,>=4.0->streamlit) (24.2.0)\n",
      "Collecting jsonschema-specifications>=2023.03.6 (from jsonschema>=3.0->altair<6,>=4.0->streamlit)\n",
      "  Using cached jsonschema_specifications-2023.12.1-py3-none-any.whl.metadata (3.0 kB)\n",
      "Requirement already satisfied: referencing>=0.28.4 in c:\\users\\ldcc\\ideaprojects\\inflearn-llm-application\\.venv\\lib\\site-packages (from jsonschema>=3.0->altair<6,>=4.0->streamlit) (0.35.1)\n",
      "Requirement already satisfied: rpds-py>=0.7.1 in c:\\users\\ldcc\\ideaprojects\\inflearn-llm-application\\.venv\\lib\\site-packages (from jsonschema>=3.0->altair<6,>=4.0->streamlit) (0.20.0)\n",
      "Requirement already satisfied: mdurl~=0.1 in c:\\users\\ldcc\\ideaprojects\\inflearn-llm-application\\.venv\\lib\\site-packages (from markdown-it-py>=2.2.0->rich<14,>=10.14.0->streamlit) (0.1.2)\n",
      "Requirement already satisfied: six>=1.5 in c:\\users\\ldcc\\ideaprojects\\inflearn-llm-application\\.venv\\lib\\site-packages (from python-dateutil>=2.8.2->pandas<3,>=1.4.0->streamlit) (1.16.0)\n",
      "Using cached streamlit-1.39.0-py2.py3-none-any.whl (8.7 MB)\n",
      "Using cached altair-5.4.1-py3-none-any.whl (658 kB)\n",
      "Using cached GitPython-3.1.43-py3-none-any.whl (207 kB)\n",
      "Using cached pandas-2.2.3-cp310-cp310-win_amd64.whl (11.6 MB)\n",
      "Using cached pydeck-0.9.1-py2.py3-none-any.whl (6.9 MB)\n",
      "Using cached rich-13.9.2-py3-none-any.whl (242 kB)\n",
      "Using cached gitdb-4.0.11-py3-none-any.whl (62 kB)\n",
      "Using cached jinja2-3.1.4-py3-none-any.whl (133 kB)\n",
      "Using cached jsonschema-4.23.0-py3-none-any.whl (88 kB)\n",
      "Using cached markdown_it_py-3.0.0-py3-none-any.whl (87 kB)\n",
      "Using cached jsonschema_specifications-2023.12.1-py3-none-any.whl (18 kB)\n",
      "Installing collected packages: markdown-it-py, jinja2, gitdb, rich, pydeck, pandas, jsonschema-specifications, gitpython, jsonschema, altair, streamlit\n",
      "Note: you may need to restart the kernel to use updated packages.\n"
     ]
    },
    {
     "name": "stderr",
     "output_type": "stream",
     "text": [
      "ERROR: Could not install packages due to an OSError: [WinError 32] 다른 프로세스가 파일을 사용 중이기 때문에 프로세스가 액세스 할 수 없습니다: 'c:\\\\Users\\\\LDCC\\\\IdeaProjects\\\\inflearn-llm-application\\\\.venv\\\\Lib\\\\site-packages\\\\pandas\\\\tests\\\\arrays\\\\integer\\\\test_dtypes.py'\n",
      "Check the permissions.\n",
      "\n"
     ]
    }
   ],
   "source": [
    "%pip install streamlit"
   ]
  },
  {
   "cell_type": "code",
   "execution_count": 6,
   "metadata": {},
   "outputs": [
    {
     "name": "stdout",
     "output_type": "stream",
     "text": [
      "Package            Version\n",
      "------------------ -----------\n",
      "asttokens          2.4.1\n",
      "attrs              24.2.0\n",
      "blinker            1.8.2\n",
      "cachetools         5.5.0\n",
      "certifi            2024.8.30\n",
      "charset-normalizer 3.3.2\n",
      "click              8.1.7\n",
      "colorama           0.4.6\n",
      "comm               0.2.2\n",
      "debugpy            1.8.6\n",
      "decorator          5.1.1\n",
      "exceptiongroup     1.2.2\n",
      "executing          2.1.0\n",
      "gitdb              4.0.11\n",
      "idna               3.10\n",
      "ipykernel          6.29.5\n",
      "ipython            8.28.0\n",
      "jedi               0.19.1\n",
      "Jinja2             3.1.4\n",
      "jupyter_client     8.6.3\n",
      "jupyter_core       5.7.2\n",
      "markdown-it-py     3.0.0\n",
      "MarkupSafe         3.0.0\n",
      "matplotlib-inline  0.1.7\n",
      "mdurl              0.1.2\n",
      "narwhals           1.9.1\n",
      "nest-asyncio       1.6.0\n",
      "numpy              2.1.2\n",
      "packaging          24.1\n",
      "pandas             2.2.3\n",
      "parso              0.8.4\n",
      "pillow             10.4.0\n",
      "pip                24.2\n",
      "platformdirs       4.3.6\n",
      "prompt_toolkit     3.0.48\n",
      "protobuf           5.28.2\n",
      "psutil             6.0.0\n",
      "pure_eval          0.2.3\n",
      "pyarrow            17.0.0\n",
      "pydeck             0.9.1\n",
      "Pygments           2.18.0\n",
      "python-dateutil    2.9.0.post0\n",
      "pytz               2024.2\n",
      "pywin32            307\n",
      "pyzmq              26.2.0\n",
      "referencing        0.35.1\n",
      "requests           2.32.3\n",
      "rich               13.9.2\n",
      "rpds-py            0.20.0\n",
      "setuptools         65.5.0\n",
      "six                1.16.0\n",
      "smmap              5.0.1\n",
      "stack-data         0.6.3\n",
      "tenacity           9.0.0\n",
      "toml               0.10.2\n",
      "tornado            6.4.1\n",
      "traitlets          5.14.3\n",
      "typing_extensions  4.12.2\n",
      "tzdata             2024.2\n",
      "urllib3            2.2.3\n",
      "watchdog           5.0.3\n",
      "wcwidth            0.2.13\n",
      "Note: you may need to restart the kernel to use updated packages.\n"
     ]
    }
   ],
   "source": [
    "pip list"
   ]
  },
  {
   "cell_type": "code",
   "execution_count": 9,
   "metadata": {},
   "outputs": [
    {
     "name": "stdout",
     "output_type": "stream",
     "text": [
      "Name: streamlit\n",
      "Version: 1.39.0\n",
      "Summary: A faster way to build and share data apps\n",
      "Home-page: https://streamlit.io\n",
      "Author: Snowflake Inc\n",
      "Author-email: hello@streamlit.io\n",
      "License: Apache License 2.0\n",
      "Location: c:\\users\\ldcc\\ideaprojects\\inflearn-llm-application\\.venv\\lib\\site-packages\n",
      "Requires: altair, blinker, cachetools, click, gitpython, numpy, packaging, pandas, pillow, protobuf, pyarrow, pydeck, requests, rich, tenacity, toml, tornado, typing-extensions, watchdog\n",
      "Required-by: \n",
      "Note: you may need to restart the kernel to use updated packages.\n"
     ]
    }
   ],
   "source": [
    "%pip show streamlit \n",
    "\n",
    "# pip freeze"
   ]
  }
 ],
 "metadata": {
  "kernelspec": {
   "display_name": ".venv",
   "language": "python",
   "name": "python3"
  },
  "language_info": {
   "codemirror_mode": {
    "name": "ipython",
    "version": 3
   },
   "file_extension": ".py",
   "mimetype": "text/x-python",
   "name": "python",
   "nbconvert_exporter": "python",
   "pygments_lexer": "ipython3",
   "version": "3.10.11"
  }
 },
 "nbformat": 4,
 "nbformat_minor": 2
}
